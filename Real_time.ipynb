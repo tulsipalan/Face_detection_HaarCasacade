{
 "cells": [
  {
   "cell_type": "markdown",
   "metadata": {},
   "source": [
    "# Real time face detection using haar_cascade classifier"
   ]
  },
  {
   "cell_type": "code",
   "execution_count": 1,
   "metadata": {},
   "outputs": [],
   "source": [
    "import cv2\n",
    "cascPath = \"haarcascade_frontalface_default.xml\"\n",
    "eyePath = \"haarcascade_eye.xml\"\n",
    "#smilePath = \"haar_cascade_smile.xml\"\n",
    "\n",
    "faceCascade = cv2.CascadeClassifier(cascPath)\n",
    "eyeCascade = cv2.CascadeClassifier(eyePath)\n",
    "#smileCascade = cv2.CascadeClassifier(smilePath)\n",
    "\n",
    "\n",
    "font = cv2.FONT_HERSHEY_SIMPLEX\n",
    "video_capture = cv2.VideoCapture(0)\n",
    "\n",
    "\n",
    "while True:\n",
    "    # Capture frame-by-frame\n",
    "    ret, frame = video_capture.read()\n",
    "    gray = cv2.cvtColor(frame, cv2.COLOR_BGR2GRAY)\n",
    "    faces = faceCascade.detectMultiScale(gray,scaleFactor=1.1, minNeighbors=5,minSize=(200, 200), flags=cv2.CASCADE_SCALE_IMAGE)\n",
    "\n",
    "\n",
    "\n",
    "    # Draw a rectangle around the faces\n",
    "\n",
    "    for (x, y, w, h) in faces:\n",
    "        cv2.rectangle(frame, (x, y), (x+w, y+h), (255, 0, 0), 3)\n",
    "        roi_gray = gray[y:y+h, x:x+w]\n",
    "        roi_color = frame[y:y+h, x:x+w]\n",
    "        cv2.putText(frame,'Face',(x, y), font, 2,(255,0,0),5)\n",
    "        eyes = eyeCascade.detectMultiScale(roi_gray)\n",
    "        for (ex,ey,ew,eh) in eyes:\n",
    "            cv2.rectangle(roi_color,(ex,ey),(ex+ew,ey+eh),(0,255,0),2)\n",
    "            cv2.putText(frame,'Eye',(x + ex,y + ey), 1, 1, (0, 255, 0), 1)\n",
    "\n",
    "\n",
    "\n",
    "    cv2.putText(frame,'Number of Faces : ' + str(len(faces)),(40, 40), font, 1,(255,0,0),2)      \n",
    "    # Display the resulting frame\n",
    "    cv2.imshow('Video', frame)\n",
    "    if cv2.waitKey(1) & 0xFF == ord('q'):\n",
    "         break\n",
    "\n",
    "\n",
    "\n",
    "# When everything is done, release the capture\n",
    "video_capture.release()\n",
    "cv2.destroyAllWindows()"
   ]
  },
  {
   "cell_type": "code",
   "execution_count": 5,
   "metadata": {},
   "outputs": [
    {
     "data": {
      "text/plain": [
       "array([[0.5686275 , 0.5686275 , 0.5686275 , ..., 0.7058824 , 0.7058824 ,\n",
       "        0.7058824 ],\n",
       "       [0.5686275 , 0.5686275 , 0.5686275 , ..., 0.7058824 , 0.7058824 ,\n",
       "        0.7058824 ],\n",
       "       [0.5686275 , 0.5686275 , 0.5686275 , ..., 0.7058824 , 0.7058824 ,\n",
       "        0.7058824 ],\n",
       "       ...,\n",
       "       [0.7058824 , 0.7176471 , 0.7372549 , ..., 0.7254902 , 0.7294118 ,\n",
       "        0.7294118 ],\n",
       "       [0.7137255 , 0.72156864, 0.7411765 , ..., 0.7176471 , 0.7254902 ,\n",
       "        0.73333335],\n",
       "       [0.72156864, 0.7294118 , 0.74509805, ..., 0.7137255 , 0.72156864,\n",
       "        0.7294118 ]], dtype=float32)"
      ]
     },
     "execution_count": 5,
     "metadata": {},
     "output_type": "execute_result"
    }
   ],
   "source": [
    "import numpy as np\n",
    "gray = cv2.imread('tulsi1.jpeg',0)\n",
    "im = np.float32(gray)/255.0\n",
    "im"
   ]
  },
  {
   "cell_type": "code",
   "execution_count": 9,
   "metadata": {},
   "outputs": [],
   "source": [
    "gx = cv2.Sobel(im , cv2.CV_32F , 1 , 0 , ksize=1)\n",
    "gy = cv2.Sobel ( im , cv2.CV_32F , 0, 1 , ksize=1)\n",
    "mag, angle = cv2.cartToPolar(gx, gy, angleInDegrees =  True)"
   ]
  },
  {
   "cell_type": "code",
   "execution_count": 8,
   "metadata": {},
   "outputs": [
    {
     "name": "stdout",
     "output_type": "stream",
     "text": [
      "Help on built-in function cartToPolar:\n",
      "\n",
      "cartToPolar(...)\n",
      "    cartToPolar(x, y[, magnitude[, angle[, angleInDegrees]]]) -> magnitude, angle\n",
      "    .   @brief Calculates the magnitude and angle of 2D vectors.\n",
      "    .   \n",
      "    .   The function cv::cartToPolar calculates either the magnitude, angle, or both\n",
      "    .   for every 2D vector (x(I),y(I)):\n",
      "    .   \\f[\\begin{array}{l} \\texttt{magnitude} (I)= \\sqrt{\\texttt{x}(I)^2+\\texttt{y}(I)^2} , \\\\ \\texttt{angle} (I)= \\texttt{atan2} ( \\texttt{y} (I), \\texttt{x} (I))[ \\cdot180 / \\pi ] \\end{array}\\f]\n",
      "    .   \n",
      "    .   The angles are calculated with accuracy about 0.3 degrees. For the point\n",
      "    .   (0,0), the angle is set to 0.\n",
      "    .   @param x array of x-coordinates; this must be a single-precision or\n",
      "    .   double-precision floating-point array.\n",
      "    .   @param y array of y-coordinates, that must have the same size and same type as x.\n",
      "    .   @param magnitude output array of magnitudes of the same size and type as x.\n",
      "    .   @param angle output array of angles that has the same size and type as\n",
      "    .   x; the angles are measured in radians (from 0 to 2\\*Pi) or in degrees (0 to 360 degrees).\n",
      "    .   @param angleInDegrees a flag, indicating whether the angles are measured\n",
      "    .   in radians (which is by default), or in degrees.\n",
      "    .   @sa Sobel, Scharr\n",
      "\n"
     ]
    }
   ],
   "source": [
    "help(cv2.cartToPolar)"
   ]
  },
  {
   "cell_type": "code",
   "execution_count": 11,
   "metadata": {},
   "outputs": [
    {
     "data": {
      "text/plain": [
       "<Figure size 1200x800 with 1 Axes>"
      ]
     },
     "metadata": {},
     "output_type": "display_data"
    }
   ],
   "source": [
    "import matplotlib.pyplot as plt\n",
    "plt.figure(figsize = (12,8))\n",
    "\n",
    "plt.imshow(mag)\n",
    "plt.show()"
   ]
  },
  {
   "cell_type": "code",
   "execution_count": null,
   "metadata": {},
   "outputs": [],
   "source": []
  }
 ],
 "metadata": {
  "kernelspec": {
   "display_name": "Python 3",
   "language": "python",
   "name": "python3"
  },
  "language_info": {
   "codemirror_mode": {
    "name": "ipython",
    "version": 3
   },
   "file_extension": ".py",
   "mimetype": "text/x-python",
   "name": "python",
   "nbconvert_exporter": "python",
   "pygments_lexer": "ipython3",
   "version": "3.7.4"
  }
 },
 "nbformat": 4,
 "nbformat_minor": 2
}
